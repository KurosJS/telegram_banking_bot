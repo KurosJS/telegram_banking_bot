{
 "cells": [
  {
   "cell_type": "code",
   "execution_count": 6,
   "metadata": {},
   "outputs": [
    {
     "name": "stdout",
     "output_type": "stream",
     "text": [
      "Users\n",
      "(510904465, 'Yernur', 'polatbek0120@gmail.com', '+77028175353')\n",
      "(961949993, 'Zharma', 'Zharma@mail.ru', '87008788877')\n",
      "(1335049700, 'Madiyar', 'Madi@mail.ru', '87028909090')\n",
      "(1794247057, 'What do you can', 'alikhanzhanabil@gmail.com', '87474335114')\n",
      "(1974164357, 'Meiirbek', 'test.20.21@mail.ru', '87056676597')\n",
      "Transactions\n",
      "(1, 1, '2024-11-01 10:06:03', 1000.0, 'Loan')\n",
      "(2, 1, '2024-11-01 10:06:10', -205.0, 'Donation')\n",
      "(3, 1, '2024-11-01 10:06:24', -200.0, 'Donation')\n",
      "(4, 1, '2024-11-01 10:09:00', -190.0, 'Donation')\n",
      "(5, 1, '2024-11-01 10:14:44', 500.0, 'Loan')\n",
      "(6, 1, '2024-11-01 10:15:18', -900.0, 'Donation')\n",
      "(7, 1, '2024-11-01 10:15:33', 100000000000000.0, 'Loan')\n",
      "(8, 1, '2024-11-01 10:15:44', -99.0, 'Donation')\n",
      "(9, 2, '2024-11-01 10:22:45', 90090.0, 'Loan')\n",
      "(10, 2, '2024-11-01 10:22:53', -80000.0, 'Donation')\n",
      "(11, 3, '2024-11-08 07:14:14', 3000.0, 'Loan')\n",
      "(12, 3, '2024-11-08 07:14:39', -2500.0, 'Donation')\n",
      "(13, 2, '2024-11-08 07:59:43', 1600.0, 'Deposit')\n",
      "(14, 510904465, '2024-11-08 08:00:29', -2000.0, 'Transfer Out')\n",
      "(15, 1335049700, '2024-11-08 08:00:29', 2000.0, 'Transfer In')\n",
      "(16, 510904465, '2024-11-08 08:04:44', -2000.0, 'Transfer Out')\n",
      "(17, 961949993, '2024-11-08 08:04:44', 2000.0, 'Transfer In')\n",
      "(18, 510904465, '2024-11-08 08:08:07', -2000.0, 'Transfer Out')\n",
      "(19, 961949993, '2024-11-08 08:08:07', 2000.0, 'Transfer In')\n",
      "(20, 2, '2024-11-08 08:08:50', 400.0, 'Loan')\n",
      "(21, 4, '2024-11-08 08:12:30', 5000.0, 'Loan')\n",
      "(22, 510904465, '2024-11-08 08:28:07', 300.0, 'Loan')\n",
      "(23, 2, '2024-11-08 09:10:13', 600.0, 'Deposit')\n",
      "(24, 2, '2024-11-08 09:10:30', -600.0, 'Donation')\n",
      "(25, 510904465, '2024-11-08 09:11:37', 30000.0, 'Loan')\n",
      "(26, 510904465, '2024-11-08 09:12:55', -2000.0, 'Transfer Out')\n",
      "(27, 1335049700, '2024-11-08 09:12:55', 2000.0, 'Transfer In')\n",
      "(28, 510904465, '2024-11-15 08:34:41', -1000.0, 'Transfer Out')\n",
      "(29, 1335049700, '2024-11-15 08:34:41', 1000.0, 'Transfer In')\n",
      "(30, 510904465, '2024-11-15 08:35:06', 100.0, 'Loan')\n",
      "(31, 510904465, '2024-11-15 09:13:16', 2000.0, 'Loan')\n",
      "(32, 2, '2024-11-15 09:13:24', -2000.0, 'Donation')\n",
      "(33, 2, '2024-11-15 09:13:30', 60000.0, 'Deposit')\n",
      "(34, 2, '2024-11-15 09:42:52', -1000.0, 'Donation')\n",
      "(35, 510904465, '2024-11-15 09:43:54', 1000.0, 'Loan')\n",
      "(36, 6, '2024-11-28 11:41:06', 100000.0, 'Deposit')\n",
      "(37, 510904465, '2024-11-28 11:54:56', -19000.0, 'Transfer Out')\n",
      "(38, 961949993, '2024-11-28 11:54:56', 19000.0, 'Transfer In')\n",
      "(39, 6, '2024-11-28 11:56:46', -80000.0, 'Donation')\n",
      "(40, 510904465, '2024-11-28 12:00:59', 20000.0, 'Loan')\n",
      "(41, 510904465, '2024-11-28 12:02:37', -20000.0, 'Loan Payment')\n",
      "(42, 510904465, '2024-11-28 12:03:13', 16000.0, 'Loan')\n",
      "(43, 510904465, '2024-11-28 12:03:20', -3690.0, 'Loan Payment')\n",
      "(44, 6, '2024-11-28 12:07:14', 20000.0, 'Deposit')\n",
      "Accounts\n",
      "(1, 1335049700, 'ACC1335049700', 'savings', 3050.0)\n",
      "(3, 961949993, 'ACC961949993', 'savings', 21500.0)\n",
      "(4, 1974164357, 'ACC1974164357', 'savings', 5000.0)\n",
      "(5, 1794247057, 'ACC1794247057', 'savings', 0.0)\n",
      "(6, 510904465, 'ACC510904465', 'savings', 33310.0)\n"
     ]
    }
   ],
   "source": [
    "import sqlite3\n",
    "# Connect to the database and Print the contents\n",
    "conn = sqlite3.connect('banking_bot.db')\n",
    "cursor = conn.cursor()\n",
    "cursor.execute(\"SELECT * FROM users;\")\n",
    "print(\"Users\")\n",
    "#print them one for each line\n",
    "for row in cursor.fetchall():\n",
    "    print(row)\n",
    "cursor.execute(\"SELECT * FROM transactions;\")\n",
    "print(\"Transactions\")\n",
    "for row in cursor.fetchall():\n",
    "    print(row)\n",
    "cursor.execute(\"SELECT * FROM accounts;\")\n",
    "print(\"Accounts\")\n",
    "for row in cursor.fetchall():\n",
    "    print(row)\n",
    "conn.close()"
   ]
  },
  {
   "cell_type": "code",
   "execution_count": 7,
   "metadata": {},
   "outputs": [
    {
     "name": "stdout",
     "output_type": "stream",
     "text": [
      "Accounts\n",
      " [(1, 1335049700, 'ACC1335049700', 'savings', 50.0), (2, 510904465, 'ACC510904465', 'savings', 10090.0), (3, 961949993, 'ACC961949993', 'savings', 500.0)]\n"
     ]
    }
   ],
   "source": [
    "# update balance to 50 for user with id 1\n",
    "conn = sqlite3.connect('banking_bot.db')\n",
    "cursor = conn.cursor()\n",
    "cursor.execute(\"UPDATE accounts SET balance = 50 WHERE id = 1;\")\n",
    "conn.commit()\n",
    "cursor.execute(\"SELECT * FROM accounts;\")\n",
    "print(\"Accounts\\n\",cursor.fetchall())"
   ]
  },
  {
   "cell_type": "code",
   "execution_count": 2,
   "metadata": {},
   "outputs": [
    {
     "name": "stdout",
     "output_type": "stream",
     "text": [
      "Deleted records from loans table for userId 510904465\n",
      "Deleted records from accounts table for userId 510904465\n",
      "Deleted records from users table for id 510904465\n",
      "Remaining records after deletion:\n",
      "Users\n",
      "(961949993, 'Zharma', 'Zharma@mail.ru', '87008788877')\n",
      "(1335049700, 'Madiyar', 'Madi@mail.ru', '87028909090')\n",
      "(1794247057, 'What do you can', 'alikhanzhanabil@gmail.com', '87474335114')\n",
      "(1974164357, 'Meiirbek', 'test.20.21@mail.ru', '87056676597')\n",
      "Accounts\n",
      "(1, 1335049700, 'ACC1335049700', 'savings', 3050.0)\n",
      "(3, 961949993, 'ACC961949993', 'savings', 2500.0)\n",
      "(4, 1974164357, 'ACC1974164357', 'savings', 5000.0)\n",
      "(5, 1794247057, 'ACC1794247057', 'savings', 0.0)\n",
      "Loans\n"
     ]
    }
   ],
   "source": [
    "import sqlite3\n",
    "\n",
    "# Connect to the database\n",
    "conn = sqlite3.connect('banking_bot.db')\n",
    "cursor = conn.cursor()\n",
    "\n",
    "# User ID to delete\n",
    "user_id_to_delete = 510904465\n",
    "\n",
    "# Delete from loans table\n",
    "cursor.execute(\"DELETE FROM loans WHERE userId = ?;\", (user_id_to_delete,))\n",
    "print(f\"Deleted records from loans table for userId {user_id_to_delete}\")\n",
    "\n",
    "# Delete from accounts table\n",
    "cursor.execute(\"DELETE FROM accounts WHERE userId = ?;\", (user_id_to_delete,))\n",
    "print(f\"Deleted records from accounts table for userId {user_id_to_delete}\")\n",
    "\n",
    "# Delete from users table\n",
    "cursor.execute(\"DELETE FROM users WHERE id = ?;\", (user_id_to_delete,))\n",
    "print(f\"Deleted records from users table for id {user_id_to_delete}\")\n",
    "\n",
    "# Commit the changes\n",
    "conn.commit()\n",
    "\n",
    "# Verify the deletions\n",
    "print(\"Remaining records after deletion:\")\n",
    "cursor.execute(\"SELECT * FROM users;\")\n",
    "print(\"Users\")\n",
    "for row in cursor.fetchall():\n",
    "    print(row)\n",
    "\n",
    "cursor.execute(\"SELECT * FROM accounts;\")\n",
    "print(\"Accounts\")\n",
    "for row in cursor.fetchall():\n",
    "    print(row)\n",
    "\n",
    "cursor.execute(\"SELECT * FROM loans;\")\n",
    "print(\"Loans\")\n",
    "for row in cursor.fetchall():\n",
    "    print(row)\n",
    "\n",
    "# Close the connection\n",
    "conn.close()"
   ]
  }
 ],
 "metadata": {
  "kernelspec": {
   "display_name": "Python 3",
   "language": "python",
   "name": "python3"
  },
  "language_info": {
   "codemirror_mode": {
    "name": "ipython",
    "version": 3
   },
   "file_extension": ".py",
   "mimetype": "text/x-python",
   "name": "python",
   "nbconvert_exporter": "python",
   "pygments_lexer": "ipython3",
   "version": "3.11.9"
  }
 },
 "nbformat": 4,
 "nbformat_minor": 2
}
